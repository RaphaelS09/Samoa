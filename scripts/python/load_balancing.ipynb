{
 "metadata": {
  "name": "",
  "signature": "sha256:23e4b071049c8ff7ff0a489abf3a22b679888b668a532b8bc27abb475b4afc2e"
 },
 "nbformat": 3,
 "nbformat_minor": 0,
 "worksheets": [
  {
   "cells": [
    {
     "cell_type": "heading",
     "level": 2,
     "metadata": {},
     "source": [
      "Define helper functions"
     ]
    },
    {
     "cell_type": "code",
     "collapsed": false,
     "input": [
      "import random\n",
      "import numpy\n",
      "import argparse\n",
      "import math\n",
      "import matplotlib.pyplot as plt\n",
      "\n",
      "def low_freq_gauss(mu, sigma, n, frequency = 13):\n",
      "    noise_low = [max(1, int(random.gauss(mu, sigma))) for i in xrange(0, frequency)]\n",
      "    return [noise_low[i * (frequency - 1) / (n - 1)] for i in xrange(0, n)]\n",
      "\n",
      "def sin_noise(mu, sigma, n, amplitudes):\n",
      "    octaves = int(math.log(n)) + 1\n",
      "    phases = [random.random() for octave in xrange(0, octaves)]\n",
      "    f = lambda x: sum([amplitudes(octave + 1) * math.sin(2.0 * math.pi * float(2 ** (octave - 1)) * float(x) / float(n) + phases[octave]) for octave in xrange(0, octaves)])\n",
      "    return [max(1, int(mu + sigma * f(x))) for x in xrange(0, n)]\n",
      "\n",
      "def dint(arr):\n",
      "    arr_int = [0 for i in xrange(0, len(arr) + 1)]\n",
      "\n",
      "    arr_int[0] = 0\n",
      "    for i in xrange(0, len(arr)):\n",
      "        arr_int[i + 1] = arr_int[i] + arr[i]\n",
      "\n",
      "    return arr_int\n",
      "\n",
      "def dder(arr_int):\n",
      "    return [arr_int[i] - arr_int[i - 1] for i in xrange(1, len(arr_int))]\n",
      "\n",
      "def exp(X, count):\n",
      "    return X / count\n",
      "\n",
      "def var(X, X_sq, count):\n",
      "    return int(math.sqrt(X_sq - X ** 2 / count)) / count"
     ],
     "language": "python",
     "metadata": {},
     "outputs": [],
     "prompt_number": 13
    },
    {
     "cell_type": "heading",
     "level": 2,
     "metadata": {},
     "source": [
      "Define solvers"
     ]
    },
    {
     "cell_type": "code",
     "collapsed": false,
     "input": [
      "class Solver:\n",
      "    i_calls = 0\n",
      "    imbalance = 0.0\n",
      "    imbalance_sq = 0.0\n",
      "    iterations = 0\n",
      "    iterations_sq = 0\n",
      "        \n",
      "    def __repr__(self):\n",
      "        s = self.__name__.ljust(50)\n",
      "        s += \"imbalance: {0:.2f}\".format(float(self.imbalance) / self.i_calls)\n",
      "        s += \" (+/- {0:.2f}) % \".format(math.sqrt(self.imbalance_sq / self.i_calls - (self.imbalance / self.i_calls)**2))\n",
      "        s += \"iterations: {0:.2f}\".format(self.iterations / self.i_calls)\n",
      "        s += \" (+/- {0:.2f}) \".format(math.sqrt(float(self.iterations_sq) / self.i_calls - (float(self.iterations) / self.i_calls)**2))\n",
      "\n",
      "        return s\n",
      "    \n",
      "    def __call__(self, l, c, *args):\n",
      "        load_i, core_j, iterations = self.solve(l, c, *args)\n",
      "        \n",
      "        load_exact = exact(l, c)\n",
      "        \n",
      "        assert(sum(load_i) == sum(load_exact))\n",
      "        \n",
      "        n = len(l)\n",
      "        for i in xrange(0, c):\n",
      "            l_i = 0\n",
      "            for j in xrange(0, n):\n",
      "                if (core_j[j] == i):\n",
      "                    l_i += l[j]\n",
      "\n",
      "            assert(load_i[i] == l_i)\n",
      "        \n",
      "        imbalance = 100.0 * float(max(load_i) - 1) / max(load_exact) - 99.0\n",
      "        self.imbalance += imbalance\n",
      "        self.imbalance_sq += imbalance ** 2\n",
      "        self.iterations += iterations\n",
      "        self.iterations_sq += iterations ** 2\n",
      "        self.i_calls += 1\n",
      "        \n",
      "        return load_i, core_j, iterations\n",
      "        "
     ],
     "language": "python",
     "metadata": {},
     "outputs": [],
     "prompt_number": 14
    },
    {
     "cell_type": "heading",
     "level": 3,
     "metadata": {},
     "source": [
      "Exact solution"
     ]
    },
    {
     "cell_type": "code",
     "collapsed": false,
     "input": [
      "def exact(l, c):\n",
      "    n = len(l)\n",
      "\n",
      "    l_sum = sum(l)\n",
      "\n",
      "    load_i_int = [(i * l_sum) / c for i in xrange(0, c + 1)]\n",
      "    core_j = [0 for j in xrange(0, n)]\n",
      "\n",
      "    return dder(load_i_int)\n",
      "\n",
      "print exact([124,12,67,23,56,136,27,125,313,6,13,61,351,61,44], 4)"
     ],
     "language": "python",
     "metadata": {},
     "outputs": [
      {
       "output_type": "stream",
       "stream": "stdout",
       "text": [
        "[354, 355, 355, 355]\n"
       ]
      }
     ],
     "prompt_number": 15
    },
    {
     "cell_type": "heading",
     "level": 3,
     "metadata": {},
     "source": [
      "Longest processing time"
     ]
    },
    {
     "cell_type": "code",
     "collapsed": false,
     "input": [
      "class LPT(Solver):\n",
      "    def __init__(self):\n",
      "        self.__name__ = 'LPT'\n",
      "\n",
      "    def solve(self, l, c):\n",
      "        n = len(l)\n",
      "\n",
      "        load_i = [0 for i in xrange(0, c)]\n",
      "        core_j = [0 for i in xrange(0, n)]\n",
      "\n",
      "        l_sorted = sorted(zip(l, xrange(0, n)))\n",
      "        l_sorted.reverse()\n",
      "\n",
      "        for l_j in l_sorted:\n",
      "            #find core with the smallest load\n",
      "            i = numpy.argmin(load_i)\n",
      "            core_j[l_j[1]] = i\n",
      "            load_i[i] += l_j[0]\n",
      "\n",
      "        return load_i, core_j, 0\n",
      "\n",
      "lpt = LPT()\n",
      "print lpt([124,12,67,23,56,136,27,125,313,6,13,61,351,61,44], 4)"
     ],
     "language": "python",
     "metadata": {},
     "outputs": [
      {
       "output_type": "stream",
       "stream": "stdout",
       "text": [
        "([357, 353, 355, 354], [3, 2, 2, 2, 2, 2, 1, 3, 1, 0, 1, 3, 0, 2, 3], 0)\n"
       ]
      }
     ],
     "prompt_number": 16
    },
    {
     "cell_type": "heading",
     "level": 3,
     "metadata": {},
     "source": [
      "Cutoff in the middle"
     ]
    },
    {
     "cell_type": "code",
     "collapsed": false,
     "input": [
      "class Midpoint_Cutoff(Solver):\n",
      "    def __init__(self):\n",
      "        self.__name__ = 'Midpoint'\n",
      "\n",
      "    def solve(self, l, c):\n",
      "        L = dint(l)\n",
      "        n = len(l)\n",
      "\n",
      "        load_i = [0 for i in xrange(0, c)]\n",
      "        core_j = [0 for j in xrange(0, n)]\n",
      "\n",
      "        for j in xrange(0, n):\n",
      "            i = (c * (L[j] + L[j + 1])) / (2 * L[n])\n",
      "\n",
      "            load_i[i] += l[j]\n",
      "            core_j[j] = i\n",
      "\n",
      "        return load_i, core_j, 0\n",
      "\n",
      "midpoint_cutoff = Midpoint_Cutoff()\n",
      "print midpoint_cutoff([124,12,67,23,56,136,27,125,313,6,13,61,351,61,44], 4)"
     ],
     "language": "python",
     "metadata": {},
     "outputs": [
      {
       "output_type": "stream",
       "stream": "stdout",
       "text": [
        "([418, 152, 393, 456], [0, 0, 0, 0, 0, 0, 1, 1, 2, 2, 2, 2, 3, 3, 3], 0)\n"
       ]
      }
     ],
     "prompt_number": 17
    },
    {
     "cell_type": "heading",
     "level": 3,
     "metadata": {},
     "source": [
      "Iterative solution with binary search"
     ]
    },
    {
     "cell_type": "code",
     "collapsed": false,
     "input": [
      "class Iterative_Binary(Solver):\n",
      "    def __init__(self, estimator=Midpoint_Cutoff()):\n",
      "        self.__name__ = 'Iterative(Binary)'\n",
      "        self.estimator = estimator\n",
      "\n",
      "    def solve(self, l, c):\n",
      "        L = dint(l)\n",
      "        n = len(l)\n",
      "\n",
      "        load_i, core_j, iters = self.estimator(l, c)\n",
      "        load_i_int = dint(load_i) \n",
      "\n",
      "        current_max = max(load_i)\n",
      "        current_min = max(L[n] / c, max(l))\n",
      "\n",
      "        load_i_test_int = [load_i_int[i] for i in xrange(0, c + 1)]\n",
      "\n",
      "        iters = 0\n",
      "        test = (current_min + current_max) / 2\n",
      "\n",
      "        while current_max > current_min:\n",
      "            j = 0\n",
      "            for i in xrange(1, c):\n",
      "                #S_i := max(L_j; L_j \\in L and L_j < S_{i-1} + test)\n",
      "                #S_i < S_k + (i - k) * test\n",
      "\n",
      "                while j < n and L[j + 1] < load_i_test_int[i - 1] + test:\n",
      "                    j += 1\n",
      "\n",
      "                load_i_test_int[i] = L[j]\n",
      "\n",
      "            if L[n] < load_i_test_int[c - 1] + test:\n",
      "                current_max = max(dder(load_i_test_int))\n",
      "                test = (current_min + current_max) / 2\n",
      "\n",
      "                for i in xrange(1, c):\n",
      "                    load_i_int[i] = load_i_test_int[i]\n",
      "            else:\n",
      "                current_min = test\n",
      "                test = current_max\n",
      "\n",
      "            iters = iters + 1\n",
      "\n",
      "        i = 1\n",
      "        for j in xrange(1, n + 1):\n",
      "            while load_i_int[i] < L[j]:\n",
      "                i += 1\n",
      "\n",
      "            core_j[j - 1] = i - 1\n",
      "\n",
      "        return dder(load_i_int), core_j, iters\n",
      "\n",
      "iterative_binary = Iterative_Binary()\n",
      "print iterative_binary([124,12,67,23,56,136,27,125,313,6,13,61,351,61,44], 4)"
     ],
     "language": "python",
     "metadata": {},
     "outputs": [
      {
       "output_type": "stream",
       "stream": "stdout",
       "text": [
        "([445, 444, 425, 105], [0, 0, 0, 0, 0, 0, 0, 1, 1, 1, 2, 2, 2, 3, 3], 4)\n"
       ]
      }
     ],
     "prompt_number": 18
    },
    {
     "cell_type": "heading",
     "level": 3,
     "metadata": {},
     "source": [
      "Iterative solution with linear search"
     ]
    },
    {
     "cell_type": "code",
     "collapsed": false,
     "input": [
      "class Iterative_Linear(Solver):\n",
      "    def __init__(self, estimator=Midpoint_Cutoff()):\n",
      "        self.__name__ = 'Iterative(Linear)'\n",
      "        self.estimator = estimator\n",
      "\n",
      "    def solve(self, l, c):\n",
      "        L = dint(l)\n",
      "        n = len(l)\n",
      "\n",
      "        load_i, core_j, iters = self.estimator(l, c)\n",
      "        load_i_int = dint(load_i) \n",
      "\n",
      "        current_max = max(dder(load_i_int)) + 1\n",
      "\n",
      "        load_i_test_int = [load_i_int[i] for i in xrange(0, c + 1)]\n",
      "\n",
      "        iters = 0\n",
      "        converged = False\n",
      "        while(not converged):\n",
      "            j = 0\n",
      "            for i in xrange(1, c):\n",
      "                while j < n and L[j + 1] < load_i_test_int[i - 1] + current_max:\n",
      "                    j += 1\n",
      "\n",
      "                load_i_test_int[i] = L[j]\n",
      "\n",
      "            if L[n] < load_i_test_int[c - 1] + current_max:\n",
      "                current_max = max(dder(load_i_test_int))\n",
      "\n",
      "                for i in xrange(1, c):\n",
      "                    load_i_int[i] = load_i_test_int[i]\n",
      "            else:\n",
      "                converged = True\n",
      "\n",
      "            iters = iters + 1\n",
      "\n",
      "        i = 1\n",
      "        for j in xrange(1, n + 1):\n",
      "            while load_i_int[i] < L[j]:\n",
      "                i += 1\n",
      "\n",
      "            core_j[j - 1] = i - 1\n",
      "\n",
      "        return dder(load_i_int), core_j, iters\n",
      "\n",
      "iterative_linear = Iterative_Linear()\n",
      "print iterative_linear([124,12,67,23,56,136,27,125,313,6,13,61,351,61,44], 4)"
     ],
     "language": "python",
     "metadata": {},
     "outputs": [
      {
       "output_type": "stream",
       "stream": "stdout",
       "text": [
        "([445, 444, 425, 105], [0, 0, 0, 0, 0, 0, 0, 1, 1, 1, 2, 2, 2, 3, 3], 2)\n"
       ]
      }
     ],
     "prompt_number": 19
    },
    {
     "cell_type": "heading",
     "level": 3,
     "metadata": {},
     "source": [
      "Hybrid solver"
     ]
    },
    {
     "cell_type": "code",
     "collapsed": false,
     "input": [
      "class Hybrid(Solver):\n",
      "    def __init__(self, alg_global=Iterative_Binary(), alg_local=LPT(), groups=2):\n",
      "        self.alg_global = alg_global\n",
      "        self.alg_local = alg_local\n",
      "        self.groups = groups\n",
      "        self.__name__ = 'Hybrid(' + self.alg_global.__name__ + \" + \" + self.alg_local.__name__ + \")\"\n",
      "\n",
      "    def solve(self, l, c):\n",
      "        n = len(l)\n",
      "        j = 0\n",
      "\n",
      "        #use a fast, approximate algorithm to distribute the load to groups of cores\n",
      "        load_i = [0 for i in xrange(0, c)]\n",
      "        core_j = [0 for i in xrange(0, n)]\n",
      "\n",
      "        load_i_global, core_j_global, iters_global = self.alg_global(l, c)\n",
      "\n",
      "        #now, refine load balance on groups with a more precise algorithm\n",
      "        for k in xrange(0, self.groups):\n",
      "            #pick all jobs in group k\n",
      "            local_jobs = []\n",
      "            local_loads = []\n",
      "\n",
      "            for j in xrange(0, n):\n",
      "                if (k == (core_j_global[j]*self.groups)/c):\n",
      "                    local_jobs.append(j)\n",
      "                    local_loads.append(l[j])\n",
      "\n",
      "            load_i_local, core_j_local, iters_local = self.alg_local(local_loads, c/self.groups)\n",
      "\n",
      "            for i_local in xrange(0, c/self.groups):\n",
      "                load_i[(c*k)/self.groups + i_local] += load_i_local[i_local]\n",
      "\n",
      "            for j_local in xrange(0, len(local_jobs)):\n",
      "                core_j[local_jobs[j_local]] = (c*k)/self.groups + core_j_local[j_local]\n",
      "\n",
      "        return load_i, core_j, 0\n",
      "\n",
      "hybrid = Hybrid()\n",
      "print hybrid([124,12,67,23,56,136,27,125,313,6,13,61,351,61,44], 4)"
     ],
     "language": "python",
     "metadata": {},
     "outputs": [
      {
       "output_type": "stream",
       "stream": "stdout",
       "text": [
        "([442, 447, 351, 179], [1, 1, 0, 1, 0, 1, 1, 1, 0, 0, 3, 3, 2, 3, 3], 0)\n"
       ]
      }
     ],
     "prompt_number": 20
    },
    {
     "cell_type": "heading",
     "level": 2,
     "metadata": {},
     "source": [
      "Test suite"
     ]
    },
    {
     "cell_type": "code",
     "collapsed": false,
     "input": [
      "def run_test(c, n, mu, sigma, max_tests):\n",
      "    i_tests = 0\n",
      "    \n",
      "    methods = [Midpoint_Cutoff(), Iterative_Binary()]\n",
      "\n",
      "    if n < 512:\n",
      "        methods.append(Iterative_Linear())\n",
      "        \n",
      "    methods.append(LPT())\n",
      "    methods.append(Hybrid(Iterative_Binary(), LPT(), c/4))\n",
      "        \n",
      "    while(i_tests < max_tests):\n",
      "        l = sin_noise(mu, sigma, n, lambda f: 1.0/f)\n",
      "        #l = low_freq_gauss(mu, sigma, n)\n",
      "\n",
      "        print \"Testing..\", \"avg(l_i):\", sum(l) / n, \"max(l_i):\", max(l), \"sum(l_i) / c:\", sum(l) / c\n",
      "\n",
      "        sol_exact = exact(l, c)\n",
      "        \n",
      "        for method in methods:\n",
      "            sol, empty, iters = method(l, c)\n",
      "            print method\n",
      "\n",
      "        i_tests += 1\n",
      "        print \"Test complete! (total tests:\", i_tests, \")\"\n",
      "        print \"\"\n",
      "\n",
      "    %matplotlib inline\n",
      "    for method in methods:\n",
      "        sol, empty, iters = method(l, c)\n",
      "        plt.plot(xrange(0, c), sol)"
     ],
     "language": "python",
     "metadata": {},
     "outputs": [],
     "prompt_number": 21
    },
    {
     "cell_type": "code",
     "collapsed": false,
     "input": [
      "run_test(1024, 4096, 1000, 1000, 25)"
     ],
     "language": "python",
     "metadata": {},
     "outputs": [
      {
       "output_type": "stream",
       "stream": "stdout",
       "text": [
        "Testing.. avg(l_i): 1612 max(l_i): 2963 sum(l_i) / c: 6451\n",
        "Midpoint                                          imbalance: 38.17 (+/- 0.00) % iterations: 0.00 (+/- 0.00) "
       ]
      },
      {
       "output_type": "stream",
       "stream": "stdout",
       "text": [
        "\n",
        "Iterative(Binary)                                 imbalance: 15.54 (+/- 0.00) % iterations: 13.00 (+/- 0.00) "
       ]
      },
      {
       "output_type": "stream",
       "stream": "stdout",
       "text": [
        "\n",
        "LPT                                               imbalance: 2.46 (+/- 0.00) % iterations: 0.00 (+/- 0.00) "
       ]
      },
      {
       "output_type": "stream",
       "stream": "stdout",
       "text": [
        "\n",
        "Hybrid(Iterative(Binary) + LPT)                   imbalance: 22.25 (+/- 0.00) % iterations: 0.00 (+/- 0.00) "
       ]
      },
      {
       "output_type": "stream",
       "stream": "stdout",
       "text": [
        "\n",
        "Test complete! (total tests: 1 )\n",
        "\n",
        "Testing.."
       ]
      },
      {
       "output_type": "stream",
       "stream": "stdout",
       "text": [
        " avg(l_i): 1558 max(l_i): 2962 sum(l_i) / c: 6233\n",
        "Midpoint                                          imbalance: 40.13 (+/- 1.97) % iterations: 0.00 (+/- 0.00) "
       ]
      },
      {
       "output_type": "stream",
       "stream": "stdout",
       "text": [
        "\n",
        "Iterative(Binary)                                 imbalance: 16.51 (+/- 0.98) % iterations: 12.00 (+/- 1.00) "
       ]
      },
      {
       "output_type": "stream",
       "stream": "stdout",
       "text": [
        "\n",
        "LPT                                               imbalance: 2.36 (+/- 0.09) % iterations: 0.00 (+/- 0.00) "
       ]
      },
      {
       "output_type": "stream",
       "stream": "stdout",
       "text": [
        "\n",
        "Hybrid(Iterative(Binary) + LPT)                   imbalance: 24.07 (+/- 1.82) % iterations: 0.00 (+/- 0.00) "
       ]
      },
      {
       "output_type": "stream",
       "stream": "stdout",
       "text": [
        "\n",
        "Test complete! (total tests: 2 )\n",
        "\n",
        "Testing.. avg(l_i): 1379 max(l_i): 3268 sum(l_i) / c: 5518\n",
        "Midpoint                                          imbalance: 42.24 (+/- 3.38) % iterations: 0.00 (+/- 0.00) "
       ]
      },
      {
       "output_type": "stream",
       "stream": "stdout",
       "text": [
        "\n",
        "Iterative(Binary)                                 imbalance: 17.01 (+/- 1.06) % iterations: 12.00 (+/- 0.94) "
       ]
      },
      {
       "output_type": "stream",
       "stream": "stdout",
       "text": [
        "\n",
        "LPT                                               imbalance: 2.32 (+/- 0.10) % iterations: 0.00 (+/- 0.00) "
       ]
      },
      {
       "output_type": "stream",
       "stream": "stdout",
       "text": [
        "\n",
        "Hybrid(Iterative(Binary) + LPT)                   imbalance: 25.48 (+/- 2.48) % iterations: 0.00 (+/- 0.00) "
       ]
      },
      {
       "output_type": "stream",
       "stream": "stdout",
       "text": [
        "\n",
        "Test complete! (total tests: 3 )\n",
        "\n",
        "Testing.. avg(l_i): 1635 max(l_i): 2518 sum(l_i) / c: 6543\n",
        "Midpoint                                          imbalance: 39.59 (+/- 5.44) % iterations: 0.00 (+/- 0.00) "
       ]
      },
      {
       "output_type": "stream",
       "stream": "stdout",
       "text": [
        "\n",
        "Iterative(Binary)                                 imbalance: 16.05 (+/- 1.90) % iterations: 12.00 (+/- 1.09) "
       ]
      },
      {
       "output_type": "stream",
       "stream": "stdout",
       "text": [
        "\n",
        "LPT                                               imbalance: 2.70 (+/- 0.67) % iterations: 0.00 (+/- 0.00) "
       ]
      },
      {
       "output_type": "stream",
       "stream": "stdout",
       "text": [
        "\n",
        "Hybrid(Iterative(Binary) + LPT)                   imbalance: 24.23 (+/- 3.04) % iterations: 0.00 (+/- 0.00) "
       ]
      },
      {
       "output_type": "stream",
       "stream": "stdout",
       "text": [
        "\n",
        "Test complete! (total tests: 4 )\n",
        "\n",
        "Testing.. avg(l_i): 1489 max(l_i): 2968 sum(l_i) / c: 5956\n",
        "Midpoint                                          imbalance: 40.77 (+/- 5.41) % iterations: 0.00 (+/- 0.00) "
       ]
      },
      {
       "output_type": "stream",
       "stream": "stdout",
       "text": [
        "\n",
        "Iterative(Binary)                                 imbalance: 17.02 (+/- 2.57) % iterations: 13.00 (+/- 2.32) "
       ]
      },
      {
       "output_type": "stream",
       "stream": "stdout",
       "text": [
        "\n",
        "LPT                                               imbalance: 3.75 (+/- 2.18) % iterations: 0.00 (+/- 0.00) "
       ]
      },
      {
       "output_type": "stream",
       "stream": "stdout",
       "text": [
        "\n",
        "Hybrid(Iterative(Binary) + LPT)                   imbalance: 24.99 (+/- 3.11) % iterations: 0.00 (+/- 0.00) "
       ]
      },
      {
       "output_type": "stream",
       "stream": "stdout",
       "text": [
        "\n",
        "Test complete! (total tests: 5 )\n",
        "\n",
        "Testing.."
       ]
      },
      {
       "output_type": "stream",
       "stream": "stdout",
       "text": [
        " avg(l_i): 1626 max(l_i): 2880 sum(l_i) / c: 6505\n",
        "Midpoint                                          imbalance: 39.36 (+/- 5.86) % iterations: 0.00 (+/- 0.00) "
       ]
      },
      {
       "output_type": "stream",
       "stream": "stdout",
       "text": [
        "\n",
        "Iterative(Binary)                                 imbalance: 16.82 (+/- 2.39) % iterations: 14.00 (+/- 2.43) "
       ]
      },
      {
       "output_type": "stream",
       "stream": "stdout",
       "text": [
        "\n",
        "LPT                                               imbalance: 3.46 (+/- 2.09) % iterations: 0.00 (+/- 0.00) "
       ]
      },
      {
       "output_type": "stream",
       "stream": "stdout",
       "text": [
        "\n",
        "Hybrid(Iterative(Binary) + LPT)                   imbalance: 24.41 (+/- 3.13) % iterations: 0.00 (+/- 0.00) "
       ]
      },
      {
       "output_type": "stream",
       "stream": "stdout",
       "text": [
        "\n",
        "Test complete! (total tests: 6 )\n",
        "\n",
        "Testing.."
       ]
      },
      {
       "output_type": "stream",
       "stream": "stdout",
       "text": [
        " avg(l_i): 1500 max(l_i): 3152 sum(l_i) / c: 6003\n",
        "Midpoint                                          imbalance: 40.85 (+/- 6.55) % iterations: 0.00 (+/- 0.00) "
       ]
      },
      {
       "output_type": "stream",
       "stream": "stdout",
       "text": [
        "\n",
        "Iterative(Binary)                                 imbalance: 17.27 (+/- 2.47) % iterations: 14.00 (+/- 2.39) "
       ]
      },
      {
       "output_type": "stream",
       "stream": "stdout",
       "text": [
        "\n",
        "LPT                                               imbalance: 3.42 (+/- 1.94) % iterations: 0.00 (+/- 0.00) "
       ]
      },
      {
       "output_type": "stream",
       "stream": "stdout",
       "text": [
        "\n",
        "Hybrid(Iterative(Binary) + LPT)                   imbalance: 25.03 (+/- 3.28) % iterations: 0.00 (+/- 0.00) "
       ]
      },
      {
       "output_type": "stream",
       "stream": "stdout",
       "text": [
        "\n",
        "Test complete! (total tests: 7 )\n",
        "\n",
        "Testing.."
       ]
      },
      {
       "output_type": "stream",
       "stream": "stdout",
       "text": [
        " avg(l_i): 1490 max(l_i): 2988 sum(l_i) / c: 5963\n",
        "Midpoint                                          imbalance: 41.76 (+/- 6.58) % iterations: 0.00 (+/- 0.00) "
       ]
      },
      {
       "output_type": "stream",
       "stream": "stdout",
       "text": [
        "\n",
        "Iterative(Binary)                                 imbalance: 17.61 (+/- 2.48) % iterations: 13.00 (+/- 2.78) "
       ]
      },
      {
       "output_type": "stream",
       "stream": "stdout",
       "text": [
        "\n",
        "LPT                                               imbalance: 3.41 (+/- 1.81) % iterations: 0.00 (+/- 0.00) "
       ]
      },
      {
       "output_type": "stream",
       "stream": "stdout",
       "text": [
        "\n",
        "Hybrid(Iterative(Binary) + LPT)                   imbalance: 25.64 (+/- 3.47) % iterations: 0.00 (+/- 0.00) "
       ]
      },
      {
       "output_type": "stream",
       "stream": "stdout",
       "text": [
        "\n",
        "Test complete! (total tests: 8 )\n",
        "\n",
        "Testing.."
       ]
      },
      {
       "output_type": "stream",
       "stream": "stdout",
       "text": [
        " avg(l_i): 1496 max(l_i): 3079 sum(l_i) / c: 5986\n",
        "Midpoint                                          imbalance: 42.15 (+/- 6.30) % iterations: 0.00 (+/- 0.00) "
       ]
      },
      {
       "output_type": "stream",
       "stream": "stdout",
       "text": [
        "\n",
        "Iterative(Binary)                                 imbalance: 17.81 (+/- 2.40) % iterations: 13.00 (+/- 2.67) "
       ]
      },
      {
       "output_type": "stream",
       "stream": "stdout",
       "text": [
        "\n",
        "LPT                                               imbalance: 3.32 (+/- 1.73) % iterations: 0.00 (+/- 0.00) "
       ]
      },
      {
       "output_type": "stream",
       "stream": "stdout",
       "text": [
        "\n",
        "Hybrid(Iterative(Binary) + LPT)                   imbalance: 25.90 (+/- 3.35) % iterations: 0.00 (+/- 0.00) "
       ]
      },
      {
       "output_type": "stream",
       "stream": "stdout",
       "text": [
        "\n",
        "Test complete! (total tests: 9 )\n",
        "\n",
        "Testing.."
       ]
      },
      {
       "output_type": "stream",
       "stream": "stdout",
       "text": [
        " avg(l_i): 1596 max(l_i): 2998 sum(l_i) / c: 6385\n",
        "Midpoint                                          imbalance: 41.79 (+/- 6.07) % iterations: 0.00 (+/- 0.00) "
       ]
      },
      {
       "output_type": "stream",
       "stream": "stdout",
       "text": [
        "\n",
        "Iterative(Binary)                                 imbalance: 17.61 (+/- 2.36) % iterations: 13.00 (+/- 2.54) "
       ]
      },
      {
       "output_type": "stream",
       "stream": "stdout",
       "text": [
        "\n",
        "LPT                                               imbalance: 3.25 (+/- 1.65) % iterations: 0.00 (+/- 0.00) "
       ]
      },
      {
       "output_type": "stream",
       "stream": "stdout",
       "text": [
        "\n",
        "Hybrid(Iterative(Binary) + LPT)                   imbalance: 25.75 (+/- 3.21) % iterations: 0.00 (+/- 0.00) "
       ]
      },
      {
       "output_type": "stream",
       "stream": "stdout",
       "text": [
        "\n",
        "Test complete! (total tests: 10 )\n",
        "\n",
        "Testing.. avg(l_i): 1619 max(l_i): 2795 sum(l_i) / c: 6476\n",
        "Midpoint                                          imbalance: 41.11 (+/- 6.18) % iterations: 0.00 (+/- 0.00) "
       ]
      },
      {
       "output_type": "stream",
       "stream": "stdout",
       "text": [
        "\n",
        "Iterative(Binary)                                 imbalance: 17.40 (+/- 2.34) % iterations: 13.00 (+/- 2.63) "
       ]
      },
      {
       "output_type": "stream",
       "stream": "stdout",
       "text": [
        "\n",
        "LPT                                               imbalance: 3.19 (+/- 1.59) % iterations: 0.00 (+/- 0.00) "
       ]
      },
      {
       "output_type": "stream",
       "stream": "stdout",
       "text": [
        "\n",
        "Hybrid(Iterative(Binary) + LPT)                   imbalance: 25.73 (+/- 3.06) % iterations: 0.00 (+/- 0.00) "
       ]
      },
      {
       "output_type": "stream",
       "stream": "stdout",
       "text": [
        "\n",
        "Test complete! (total tests: 11 )\n",
        "\n",
        "Testing.."
       ]
      },
      {
       "output_type": "stream",
       "stream": "stdout",
       "text": [
        " avg(l_i): 1419 max(l_i): 3042 sum(l_i) / c: 5677\n",
        "Midpoint                                          imbalance: 41.74 (+/- 6.27) % iterations: 0.00 (+/- 0.00) "
       ]
      },
      {
       "output_type": "stream",
       "stream": "stdout",
       "text": [
        "\n",
        "Iterative(Binary)                                 imbalance: 17.74 (+/- 2.52) % iterations: 13.00 (+/- 2.72) "
       ]
      },
      {
       "output_type": "stream",
       "stream": "stdout",
       "text": [
        "\n",
        "LPT                                               imbalance: 3.75 (+/- 2.42) % iterations: 0.00 (+/- 0.00) "
       ]
      },
      {
       "output_type": "stream",
       "stream": "stdout",
       "text": [
        "\n",
        "Hybrid(Iterative(Binary) + LPT)                   imbalance: 25.90 (+/- 2.98) % iterations: 0.00 (+/- 0.00) "
       ]
      },
      {
       "output_type": "stream",
       "stream": "stdout",
       "text": [
        "\n",
        "Test complete! (total tests: 12 )\n",
        "\n",
        "Testing.."
       ]
      },
      {
       "output_type": "stream",
       "stream": "stdout",
       "text": [
        " avg(l_i): 1436 max(l_i): 2998 sum(l_i) / c: 5744\n",
        "Midpoint                                          imbalance: 42.19 (+/- 6.22) % iterations: 0.00 (+/- 0.00) "
       ]
      },
      {
       "output_type": "stream",
       "stream": "stdout",
       "text": [
        "\n",
        "Iterative(Binary)                                 imbalance: 18.12 (+/- 2.75) % iterations: 13.00 (+/- 2.62) "
       ]
      },
      {
       "output_type": "stream",
       "stream": "stdout",
       "text": [
        "\n",
        "LPT                                               imbalance: 4.19 (+/- 2.78) % iterations: 0.00 (+/- 0.00) "
       ]
      },
      {
       "output_type": "stream",
       "stream": "stdout",
       "text": [
        "\n",
        "Hybrid(Iterative(Binary) + LPT)                   imbalance: 26.33 (+/- 3.24) % iterations: 0.00 (+/- 0.00) "
       ]
      },
      {
       "output_type": "stream",
       "stream": "stdout",
       "text": [
        "\n",
        "Test complete! (total tests: 13 )\n",
        "\n",
        "Testing.. avg(l_i): 1588 max(l_i): 2873 sum(l_i) / c: 6353\n",
        "Midpoint                                          imbalance: 41.67 (+/- 6.28) % iterations: 0.00 (+/- 0.00) "
       ]
      },
      {
       "output_type": "stream",
       "stream": "stdout",
       "text": [
        "\n",
        "Iterative(Binary)                                 imbalance: 17.99 (+/- 2.69) % iterations: 13.00 (+/- 2.67) "
       ]
      },
      {
       "output_type": "stream",
       "stream": "stdout",
       "text": [
        "\n",
        "LPT                                               imbalance: 4.04 (+/- 2.73) % iterations: 0.00 (+/- 0.00) "
       ]
      },
      {
       "output_type": "stream",
       "stream": "stdout",
       "text": [
        "\n",
        "Hybrid(Iterative(Binary) + LPT)                   imbalance: 26.16 (+/- 3.18) % iterations: 0.00 (+/- 0.00) "
       ]
      },
      {
       "output_type": "stream",
       "stream": "stdout",
       "text": [
        "\n",
        "Test complete! (total tests: 14 )\n",
        "\n",
        "Testing.. avg(l_i): 1613 max(l_i): "
       ]
      },
      {
       "output_type": "stream",
       "stream": "stdout",
       "text": [
        "2996 sum(l_i) / c: 6455\n",
        "Midpoint                                          imbalance: 41.43 (+/- 6.14) % iterations: 0.00 (+/- 0.00) "
       ]
      },
      {
       "output_type": "stream",
       "stream": "stdout",
       "text": [
        "\n",
        "Iterative(Binary)                                 imbalance: 17.93 (+/- 2.61) % iterations: 13.00 (+/- 2.58) "
       ]
      },
      {
       "output_type": "stream",
       "stream": "stdout",
       "text": [
        "\n",
        "LPT                                               imbalance: 4.04 (+/- 2.64) % iterations: 0.00 (+/- 0.00) "
       ]
      },
      {
       "output_type": "stream",
       "stream": "stdout",
       "text": [
        "\n",
        "Hybrid(Iterative(Binary) + LPT)                   imbalance: 26.07 (+/- 3.09) % iterations: 0.00 (+/- 0.00) "
       ]
      },
      {
       "output_type": "stream",
       "stream": "stdout",
       "text": [
        "\n",
        "Test complete! (total tests: 15 )\n",
        "\n",
        "Testing.."
       ]
      },
      {
       "output_type": "stream",
       "stream": "stdout",
       "text": [
        " avg(l_i): 1461 max(l_i): 3034 sum(l_i) / c: 5847\n",
        "Midpoint                                          imbalance: 41.75 (+/- 6.08) % iterations: 0.00 (+/- 0.00) "
       ]
      },
      {
       "output_type": "stream",
       "stream": "stdout",
       "text": [
        "\n",
        "Iterative(Binary)                                 imbalance: 18.14 (+/- 2.65) % iterations: 14.00 (+/- 2.55) "
       ]
      },
      {
       "output_type": "stream",
       "stream": "stdout",
       "text": [
        "\n",
        "LPT                                               imbalance: 4.22 (+/- 2.65) % iterations: 0.00 (+/- 0.00) "
       ]
      },
      {
       "output_type": "stream",
       "stream": "stdout",
       "text": [
        "\n",
        "Hybrid(Iterative(Binary) + LPT)                   imbalance: 26.24 (+/- 3.06) % iterations: 0.00 (+/- 0.00) "
       ]
      },
      {
       "output_type": "stream",
       "stream": "stdout",
       "text": [
        "\n",
        "Test complete! (total tests: 16 )\n",
        "\n",
        "Testing.. avg(l_i): 1460 max(l_i): 3043 sum(l_i) / c: 5841\n",
        "Midpoint                                          imbalance: 42.06 (+/- 6.02) % iterations: 0.00 (+/- 0.00) "
       ]
      },
      {
       "output_type": "stream",
       "stream": "stdout",
       "text": [
        "\n",
        "Iterative(Binary)                                 imbalance: 18.30 (+/- 2.66) % iterations: 13.00 (+/- 2.85) "
       ]
      },
      {
       "output_type": "stream",
       "stream": "stdout",
       "text": [
        "\n",
        "LPT                                               imbalance: 4.33 (+/- 2.61) % iterations: 0.00 (+/- 0.00) "
       ]
      },
      {
       "output_type": "stream",
       "stream": "stdout",
       "text": [
        "\n",
        "Hybrid(Iterative(Binary) + LPT)                   imbalance: 26.46 (+/- 3.10) % iterations: 0.00 (+/- 0.00) "
       ]
      },
      {
       "output_type": "stream",
       "stream": "stdout",
       "text": [
        "\n",
        "Test complete! (total tests: 17 )\n",
        "\n",
        "Testing.. avg(l_i): 1518 max(l_i): 3087 sum(l_i) / c: 6074\n",
        "Midpoint                                          imbalance: 42.34 (+/- 5.97) % iterations: 0.00 (+/- 0.00) "
       ]
      },
      {
       "output_type": "stream",
       "stream": "stdout",
       "text": [
        "\n",
        "Iterative(Binary)                                 imbalance: 18.35 (+/- 2.59) % iterations: 13.00 (+/- 2.82) "
       ]
      },
      {
       "output_type": "stream",
       "stream": "stdout",
       "text": [
        "\n",
        "LPT                                               imbalance: 4.35 (+/- 2.54) % iterations: 0.00 (+/- 0.00) "
       ]
      },
      {
       "output_type": "stream",
       "stream": "stdout",
       "text": [
        "\n",
        "Hybrid(Iterative(Binary) + LPT)                   imbalance: 26.47 (+/- 3.01) % iterations: 0.00 (+/- 0.00) "
       ]
      },
      {
       "output_type": "stream",
       "stream": "stdout",
       "text": [
        "\n",
        "Test complete! (total tests: 18 )\n",
        "\n",
        "Testing.. avg(l_i): 1517 max(l_i): 2973 sum(l_i) / c: 6068\n",
        "Midpoint                                          imbalance: 42.62 (+/- 5.92) % iterations: 0.00 (+/- 0.00) "
       ]
      },
      {
       "output_type": "stream",
       "stream": "stdout",
       "text": [
        "\n",
        "Iterative(Binary)                                 imbalance: 18.42 (+/- 2.54) % iterations: 13.00 (+/- 2.75) "
       ]
      },
      {
       "output_type": "stream",
       "stream": "stdout",
       "text": [
        "\n",
        "LPT                                               imbalance: 4.36 (+/- 2.47) % iterations: 0.00 (+/- 0.00) "
       ]
      },
      {
       "output_type": "stream",
       "stream": "stdout",
       "text": [
        "\n",
        "Hybrid(Iterative(Binary) + LPT)                   imbalance: 26.49 (+/- 2.93) % iterations: 0.00 (+/- 0.00) "
       ]
      },
      {
       "output_type": "stream",
       "stream": "stdout",
       "text": [
        "\n",
        "Test complete! (total tests: 19 )\n",
        "\n",
        "Testing.."
       ]
      },
      {
       "output_type": "stream",
       "stream": "stdout",
       "text": [
        " avg(l_i): 1622 max(l_i): 2905 sum(l_i) / c: 6490\n",
        "Midpoint                                          imbalance: 42.18 (+/- 6.08) % iterations: 0.00 (+/- 0.00) "
       ]
      },
      {
       "output_type": "stream",
       "stream": "stdout",
       "text": [
        "\n",
        "Iterative(Binary)                                 imbalance: 18.27 (+/- 2.56) % iterations: 13.00 (+/- 2.73) "
       ]
      },
      {
       "output_type": "stream",
       "stream": "stdout",
       "text": [
        "\n",
        "LPT                                               imbalance: 4.27 (+/- 2.44) % iterations: 0.00 (+/- 0.00) "
       ]
      },
      {
       "output_type": "stream",
       "stream": "stdout",
       "text": [
        "\n",
        "Hybrid(Iterative(Binary) + LPT)                   imbalance: 26.40 (+/- 2.89) % iterations: 0.00 (+/- 0.00) "
       ]
      },
      {
       "output_type": "stream",
       "stream": "stdout",
       "text": [
        "\n",
        "Test complete! (total tests: 20 )\n",
        "\n",
        "Testing.."
       ]
      },
      {
       "output_type": "stream",
       "stream": "stdout",
       "text": [
        " avg(l_i): 1495 max(l_i): 3056 sum(l_i) / c: 5982\n",
        "Midpoint                                          imbalance: 42.34 (+/- 5.97) % iterations: 0.00 (+/- 0.00) "
       ]
      },
      {
       "output_type": "stream",
       "stream": "stdout",
       "text": [
        "\n",
        "Iterative(Binary)                                 imbalance: 18.40 (+/- 2.57) % iterations: 13.00 (+/- 2.67) "
       ]
      },
      {
       "output_type": "stream",
       "stream": "stdout",
       "text": [
        "\n",
        "LPT                                               imbalance: 4.19 (+/- 2.41) % iterations: 0.00 (+/- 0.00) "
       ]
      },
      {
       "output_type": "stream",
       "stream": "stdout",
       "text": [
        "\n",
        "Hybrid(Iterative(Binary) + LPT)                   imbalance: 26.42 (+/- 2.82) % iterations: 0.00 (+/- 0.00) "
       ]
      },
      {
       "output_type": "stream",
       "stream": "stdout",
       "text": [
        "\n",
        "Test complete! (total tests: 21 )\n",
        "\n",
        "Testing.. avg(l_i): 1525 max(l_i): 2969 sum(l_i) / c: 6102\n",
        "Midpoint                                          imbalance: 42.50 (+/- 5.88) % iterations: 0.00 (+/- 0.00) "
       ]
      },
      {
       "output_type": "stream",
       "stream": "stdout",
       "text": [
        "\n",
        "Iterative(Binary)                                 imbalance: 18.41 (+/- 2.51) % iterations: 14.00 (+/- 2.75) "
       ]
      },
      {
       "output_type": "stream",
       "stream": "stdout",
       "text": [
        "\n",
        "LPT                                               imbalance: 4.20 (+/- 2.36) % iterations: 0.00 (+/- 0.00) "
       ]
      },
      {
       "output_type": "stream",
       "stream": "stdout",
       "text": [
        "\n",
        "Hybrid(Iterative(Binary) + LPT)                   imbalance: 26.25 (+/- 2.87) % iterations: 0.00 (+/- 0.00) "
       ]
      },
      {
       "output_type": "stream",
       "stream": "stdout",
       "text": [
        "\n",
        "Test complete! (total tests: 22 )\n",
        "\n",
        "Testing.."
       ]
      },
      {
       "output_type": "stream",
       "stream": "stdout",
       "text": [
        " avg(l_i): 1534 max(l_i): 3023 sum(l_i) / c: 6137\n",
        "Midpoint                                          imbalance: 42.56 (+/- 5.76) % iterations: 0.00 (+/- 0.00) "
       ]
      },
      {
       "output_type": "stream",
       "stream": "stdout",
       "text": [
        "\n",
        "Iterative(Binary)                                 imbalance: 18.41 (+/- 2.45) % iterations: 14.00 (+/- 2.69) "
       ]
      },
      {
       "output_type": "stream",
       "stream": "stdout",
       "text": [
        "\n",
        "LPT                                               imbalance: 4.16 (+/- 2.31) % iterations: 0.00 (+/- 0.00) "
       ]
      },
      {
       "output_type": "stream",
       "stream": "stdout",
       "text": [
        "\n",
        "Hybrid(Iterative(Binary) + LPT)                   imbalance: 26.21 (+/- 2.81) % iterations: 0.00 (+/- 0.00) "
       ]
      },
      {
       "output_type": "stream",
       "stream": "stdout",
       "text": [
        "\n",
        "Test complete! (total tests: 23 )\n",
        "\n",
        "Testing.. avg(l_i): 1410 max(l_i): 3107 sum(l_i) / c: 5640\n",
        "Midpoint                                          imbalance: 42.82 (+/- 5.77) % iterations: 0.00 (+/- 0.00) "
       ]
      },
      {
       "output_type": "stream",
       "stream": "stdout",
       "text": [
        "\n",
        "Iterative(Binary)                                 imbalance: 18.47 (+/- 2.42) % iterations: 14.00 (+/- 2.66) "
       ]
      },
      {
       "output_type": "stream",
       "stream": "stdout",
       "text": [
        "\n",
        "LPT                                               imbalance: 4.30 (+/- 2.37) % iterations: 0.00 (+/- 0.00) "
       ]
      },
      {
       "output_type": "stream",
       "stream": "stdout",
       "text": [
        "\n",
        "Hybrid(Iterative(Binary) + LPT)                   imbalance: 26.29 (+/- 2.77) % iterations: 0.00 (+/- 0.00) "
       ]
      },
      {
       "output_type": "stream",
       "stream": "stdout",
       "text": [
        "\n",
        "Test complete! (total tests: 24 )\n",
        "\n",
        "Testing.. avg(l_i): 1636 max(l_i): 2528 sum(l_i) / c: 6544\n",
        "Midpoint                                          imbalance: 42.45 (+/- 5.93) % iterations: 0.00 (+/- 0.00) "
       ]
      },
      {
       "output_type": "stream",
       "stream": "stdout",
       "text": [
        "\n",
        "Iterative(Binary)                                 imbalance: 18.28 (+/- 2.55) % iterations: 14.00 (+/- 2.73) "
       ]
      },
      {
       "output_type": "stream",
       "stream": "stdout",
       "text": [
        "\n",
        "LPT                                               imbalance: 4.27 (+/- 2.33) % iterations: 0.00 (+/- 0.00) "
       ]
      },
      {
       "output_type": "stream",
       "stream": "stdout",
       "text": [
        "\n",
        "Hybrid(Iterative(Binary) + LPT)                   imbalance: 26.11 (+/- 2.86) % iterations: 0.00 (+/- 0.00) "
       ]
      },
      {
       "output_type": "stream",
       "stream": "stdout",
       "text": [
        "\n",
        "Test complete! (total tests: 25 )\n",
        "\n"
       ]
      },
      {
       "metadata": {},
       "output_type": "display_data",
       "png": "[encoded data removed]",
       "text": [
        "<matplotlib.figure.Figure at 0x7f3a755f5c10>"
       ]
      }
     ],
     "prompt_number": 23
    },
    {
     "cell_type": "code",
     "collapsed": false,
     "input": [],
     "language": "python",
     "metadata": {},
     "outputs": [],
     "prompt_number": 22
    }
   ],
   "metadata": {}
  }
 ]
}