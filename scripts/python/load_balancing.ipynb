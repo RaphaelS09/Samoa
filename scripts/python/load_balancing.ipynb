{
 "metadata": {
  "name": "",
  "signature": "sha256:8f866607acb84792206b61304fcfccbe4945a9bc0bb7ebab29e2cff885fb8f10"
 },
 "nbformat": 3,
 "nbformat_minor": 0,
 "worksheets": [
  {
   "cells": [
    {
     "cell_type": "heading",
     "level": 2,
     "metadata": {},
     "source": [
      "Define helper functions"
     ]
    },
    {
     "cell_type": "code",
     "collapsed": false,
     "input": [
      "import random\n",
      "import numpy\n",
      "import argparse\n",
      "import math\n",
      "import matplotlib.pyplot as plt\n",
      "\n",
      "def low_freq_gauss(mu, sigma, n, frequency = 13):\n",
      "    noise_low = [max(1, int(random.gauss(mu, sigma))) for i in xrange(0, frequency)]\n",
      "    return [noise_low[i * (frequency - 1) / (n - 1)] for i in xrange(0, n)]\n",
      "\n",
      "def sin_noise(mu, sigma, n, amplitudes):\n",
      "    octaves = int(math.log(n)) + 1\n",
      "    phases = [random.random() for octave in xrange(0, octaves)]\n",
      "    f = lambda x: sum([amplitudes(octave + 1) * math.sin(2.0 * math.pi * float(2 ** (octave - 1)) * float(x) / float(n) + phases[octave]) for octave in xrange(0, octaves)])\n",
      "    return [max(1, int(mu + sigma * f(x))) for x in xrange(0, n)]\n",
      "\n",
      "def dint(arr):\n",
      "    arr_int = [0 for i in xrange(0, len(arr) + 1)]\n",
      "\n",
      "    arr_int[0] = 0\n",
      "    for i in xrange(0, len(arr)):\n",
      "        arr_int[i + 1] = arr_int[i] + arr[i]\n",
      "\n",
      "    return arr_int\n",
      "\n",
      "def dder(arr_int):\n",
      "    return [arr_int[i] - arr_int[i - 1] for i in xrange(1, len(arr_int))]\n",
      "\n",
      "def exp(X, count):\n",
      "    return X / count\n",
      "\n",
      "def var(X, X_sq, count):\n",
      "    return int(math.sqrt(X_sq - X ** 2 / count)) / count"
     ],
     "language": "python",
     "metadata": {},
     "outputs": [],
     "prompt_number": 1
    },
    {
     "cell_type": "heading",
     "level": 2,
     "metadata": {},
     "source": [
      "Define solvers"
     ]
    },
    {
     "cell_type": "heading",
     "level": 3,
     "metadata": {},
     "source": [
      "Exact solution"
     ]
    },
    {
     "cell_type": "code",
     "collapsed": false,
     "input": [
      "def exact(L, c):\n",
      "    n = len(L) - 1\n",
      "\n",
      "    sol_exact_int = [L[n] * i / c for i in xrange(0, c + 1)]\n",
      "    return dder(sol_exact_int)"
     ],
     "language": "python",
     "metadata": {},
     "outputs": [],
     "prompt_number": 2
    },
    {
     "cell_type": "heading",
     "level": 3,
     "metadata": {},
     "source": [
      "Cutoff in the middle"
     ]
    },
    {
     "cell_type": "code",
     "collapsed": false,
     "input": [
      "def midpoint_cutoff(L, c):\n",
      "    n = len(L) - 1\n",
      "    j = 0\n",
      "    l = dder(L)\n",
      "\n",
      "    sol_approx = [0 for i in xrange(0, c)]\n",
      "\n",
      "    for j in xrange(0, n):\n",
      "        i = (c * (L[j] + L[j + 1])) / (2 * L[n])\n",
      "\n",
      "        sol_approx[i] += l[j]\n",
      "\n",
      "    return sol_approx"
     ],
     "language": "python",
     "metadata": {},
     "outputs": [],
     "prompt_number": 3
    },
    {
     "cell_type": "heading",
     "level": 3,
     "metadata": {},
     "source": [
      "Iterative solution with binary search"
     ]
    },
    {
     "cell_type": "code",
     "collapsed": false,
     "input": [
      "def iterative_binary(L, c):\n",
      "    n = len(L) - 1\n",
      "\n",
      "    sol_iterative_int = dint(midpoint_cutoff(L, c))\n",
      "    current_max = max(dder(sol_iterative_int))\n",
      "    current_min = max(L[n] / c, max(dder(L)))\n",
      "\n",
      "    sol_test_int = [sol_iterative_int[i] for i in xrange(0, c + 1)]\n",
      "\n",
      "    iters = 0\n",
      "    test = (current_min + current_max) / 2\n",
      "\n",
      "    while current_max > current_min:\n",
      "        j = 0\n",
      "        for i in xrange(1, c):\n",
      "            #S_i := max(L_j; L_j \\in L and L_j < S_{i-1} + test)\n",
      "            #S_i < S_k + (i - k) * test\n",
      "\n",
      "            while j < n and L[j + 1] < sol_test_int[i - 1] + test:\n",
      "                j += 1\n",
      "\n",
      "            sol_test_int[i] = L[j]\n",
      "\n",
      "        if L[n] < sol_test_int[c - 1] + test:\n",
      "            current_max = max(dder(sol_test_int))\n",
      "            test = (current_min + current_max) / 2\n",
      "\n",
      "            for i in xrange(1, c):\n",
      "                sol_iterative_int[i] = sol_test_int[i]\n",
      "        else:\n",
      "            current_min = test\n",
      "            test = current_max\n",
      "\n",
      "        iters = iters + 1\n",
      "\n",
      "    return dder(sol_iterative_int), iters"
     ],
     "language": "python",
     "metadata": {},
     "outputs": [],
     "prompt_number": 4
    },
    {
     "cell_type": "heading",
     "level": 3,
     "metadata": {},
     "source": [
      "Iterative solution with linear search"
     ]
    },
    {
     "cell_type": "code",
     "collapsed": false,
     "input": [
      "def iterative_linear(L, c):\n",
      "    n = len(L) - 1\n",
      "\n",
      "    sol_iterative_int = dint(midpoint_cutoff(L, c))\n",
      "    current_max = max(dder(sol_iterative_int)) + 1\n",
      "\n",
      "    sol_test_int = [sol_iterative_int[i] for i in xrange(0, c + 1)]\n",
      "\n",
      "    iters = 0\n",
      "    converged = False\n",
      "    while(not converged):\n",
      "        j = 0\n",
      "        for i in xrange(1, c):\n",
      "            while j < n and L[j + 1] < sol_test_int[i - 1] + current_max:\n",
      "                j += 1\n",
      "\n",
      "            sol_test_int[i] = L[j]\n",
      "\n",
      "        if L[n] < sol_test_int[c - 1] + current_max:\n",
      "            current_max = max(dder(sol_test_int))\n",
      "\n",
      "            for i in xrange(1, c):\n",
      "                sol_iterative_int[i] = sol_test_int[i]\n",
      "        else:\n",
      "            converged = True\n",
      "\n",
      "        iters = iters + 1\n",
      "\n",
      "    return dder(sol_iterative_int), iters"
     ],
     "language": "python",
     "metadata": {},
     "outputs": [],
     "prompt_number": 5
    },
    {
     "cell_type": "heading",
     "level": 3,
     "metadata": {},
     "source": [
      "Brute force search"
     ]
    },
    {
     "cell_type": "code",
     "collapsed": false,
     "input": [
      "def brute_force(L, c):\n",
      "    n = len(L) - 1\n",
      "\n",
      "    def brute_force_recursive(d, i_p):\n",
      "        if (d >= c):\n",
      "            if max(dder(sol_test_int)) < max(dder(sol_brute_int)):\n",
      "                for i in xrange(0, c + 1):\n",
      "                    sol_brute_int[i] = sol_test_int[i]\n",
      "        else:\n",
      "            for i in xrange(i_p, n + 1):\n",
      "                sol_test_int[d] = L[i]\n",
      "                brute_force_recursive(d + 1, i + 1)\n",
      "\n",
      "    sol_brute_int = [0 for i in xrange(0, c + 1)]\n",
      "    sol_brute_int[c] = L[n]\n",
      "\n",
      "    sol_test_int = [0 for i in xrange(0, c + 1)]\n",
      "    sol_test_int[c] = L[n]\n",
      "\n",
      "    brute_force_recursive(1, 0)\n",
      "    return dder(sol_brute_int)"
     ],
     "language": "python",
     "metadata": {},
     "outputs": [],
     "prompt_number": 6
    },
    {
     "cell_type": "code",
     "collapsed": false,
     "input": [
      "def run_test(c, n, mu, sigma, max_tests):\n",
      "    i_tests = 0\n",
      "    midpoint_imbalance = 0; midpoint_imbalance_sq = 0\n",
      "    optimal_imbalance = 0; optimal_imbalance_sq = 0\n",
      "    binary_iterations = 0; binary_iterations_sq = 0\n",
      "    linear_iterations = 0; linear_iterations_sq = 0\n",
      "\n",
      "    while(i_tests < max_tests):\n",
      "        l = sin_noise(mu, sigma, n, lambda f: 1.0/f)\n",
      "        #l = low_freq_gauss(mu, sigma, n)\n",
      "        L = dint(l)\n",
      "\n",
      "        print \"Testing..\", \"avg(l_i):\", sum(l) / n, \"max(l_i):\", max(l), \"sum(l_i) / c:\", L[n] / c\n",
      "\n",
      "        sol_exact = exact(L, c)\n",
      "\n",
      "        sol_approx = midpoint_cutoff(L, c)\n",
      "        assert(sum(sol_approx) == sum(sol_exact))\n",
      "        print \" Midpoint cutoff      \", \"maximum:\", max(sol_approx), \"imbalance:\", 100 * (max(sol_approx) - 1) / max(sol_exact) - 99, \"%\"\n",
      "        imbalance = 100 * (max(sol_approx) - 1) / max(sol_exact) - 99\n",
      "        midpoint_imbalance += imbalance\n",
      "        midpoint_imbalance_sq += imbalance ** 2\n",
      "        \n",
      "        sol_binary_search, iters = iterative_binary(L, c)\n",
      "        assert(sum(sol_binary_search) == sum(sol_exact))\n",
      "        print \" Binary search        \", \"maximum:\", max(sol_binary_search), \"imbalance:\", 100 * (max(sol_binary_search) - 1) / max(sol_exact) - 99, \"%\"\n",
      "        imbalance = 100 * (max(sol_binary_search) - 1) / max(sol_exact) - 99\n",
      "        optimal_imbalance += imbalance\n",
      "        optimal_imbalance_sq += imbalance ** 2\n",
      "        binary_iterations += iters\n",
      "        binary_iterations_sq += iters ** 2\n",
      "\n",
      "        if (n < 33000):\n",
      "            sol_linear_search, iters = iterative_linear(L, c)\n",
      "            assert(sum(sol_linear_search) == sum(sol_exact))\n",
      "            print \" Linear search        \", \"maximum:\", max(sol_linear_search), \"imbalance:\", 100 * (max(sol_linear_search) - 1) / max(sol_exact) - 99, \"%\"\n",
      "            linear_iterations += iters\n",
      "            linear_iterations_sq += iters ** 2\n",
      "\n",
      "            #Check if the binary search maximum equals the linear search maximum\n",
      "            if max(sol_binary_search) != max(sol_linear_search):\n",
      "                print \"Error: Binary search maximum is bigger than linear search maximum:\"\n",
      "                print sol_binary_search, \"maxima: \", max(sol_binary_search), max(sol_linear_search)\n",
      "                assert(False)\n",
      "\n",
      "        if (n < 24):\n",
      "            sol_brute = brute_force(L, c)\n",
      "            assert(sum(sol_brute) == sum(sol_exact))\n",
      "            print \" Brute force solution \", \"maximum:\", max(sol_brute), \"imbalance:\", 100 * (max(sol_brute) - 1) / max(sol_exact) - 99, \"%\"\n",
      "\n",
      "            #Check if the linear search maximum equals the brute force maximum\n",
      "            if max(sol_linear_search) != max(sol_brute):\n",
      "                print \"Error: Linear search maximum is bigger than brute force solution maximum:\"\n",
      "                print sol_linear_search, \"maxima: \", max(sol_linear_search), max(sol_brute)\n",
      "                assert(False)\n",
      "\n",
      "\n",
      "        i_tests += 1\n",
      "        print \"Test complete! (total tests:\", i_tests, \", cutoff imbalance:\", midpoint_imbalance / i_tests, \"%, search imbalance:\", optimal_imbalance / i_tests, \"%, binary iterations:\", binary_iterations / i_tests, \", linear iterations:\", linear_iterations / i_tests, \")\"\n",
      "        print \"\"\n",
      "\n",
      "    %matplotlib inline\n",
      "    plt.plot(xrange(0, c), sol_approx, 'r-')\n",
      "    plt.plot(xrange(0, c), sol_binary_search, 'g-')\n",
      "    plt.plot(xrange(0, c), sol_exact, 'b-')"
     ],
     "language": "python",
     "metadata": {},
     "outputs": [],
     "prompt_number": 7
    },
    {
     "cell_type": "heading",
     "level": 2,
     "metadata": {},
     "source": [
      "Test"
     ]
    },
    {
     "cell_type": "code",
     "collapsed": false,
     "input": [
      "run_test(1024, 4096, 1000, 500, 1)"
     ],
     "language": "python",
     "metadata": {},
     "outputs": [
      {
       "output_type": "stream",
       "stream": "stdout",
       "text": [
        "Testing.. avg(l_i): 1218 max(l_i): 2013 sum(l_i) / c: 4872\n",
        " Midpoint cutoff       maximum: 6303 imbalance: 30 %\n",
        " Binary search         maximum: 5566 imbalance: 15 %\n",
        " Linear search        "
       ]
      },
      {
       "output_type": "stream",
       "stream": "stdout",
       "text": [
        " maximum: 5566 imbalance: 15 %\n",
        "Test complete! (total tests: 1 , cutoff imbalance: 30 %, search imbalance: 15 %, binary iterations: 15 , linear iterations: 368 )\n",
        "\n"
       ]
      },
      {
       "metadata": {},
       "output_type": "display_data",
       "png": "[encoded data removed]",
       "text": [
        "<matplotlib.figure.Figure at 0x2f88290>"
       ]
      }
     ],
     "prompt_number": 12
    },
    {
     "cell_type": "code",
     "collapsed": false,
     "input": [],
     "language": "python",
     "metadata": {},
     "outputs": []
    }
   ],
   "metadata": {}
  }
 ]
}